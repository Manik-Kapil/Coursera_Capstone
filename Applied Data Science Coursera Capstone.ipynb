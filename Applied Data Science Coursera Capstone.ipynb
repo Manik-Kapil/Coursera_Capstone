{
    "cells": [
        {
            "cell_type": "markdown",
            "metadata": {
                "collapsed": true
            },
            "source": "<h2>                 Predictive Measures for Mitigation of COVID-19 Community Transmission </h2>\n<h3>                         Applied Data Science Capstone Project </h3>\n"
        },
        {
            "cell_type": "markdown",
            "metadata": {},
            "source": "<h3> 1. Introduction </h3>"
        },
        {
            "cell_type": "markdown",
            "metadata": {},
            "source": "<p> Some Texutal Stuff </p>"
        },
        {
            "cell_type": "markdown",
            "metadata": {},
            "source": "<h3> 2. Business Problem</h3>"
        },
        {
            "cell_type": "markdown",
            "metadata": {},
            "source": "<p> Textual Stuff </p>"
        },
        {
            "cell_type": "markdown",
            "metadata": {},
            "source": "<h3> 3. Data </h3>"
        },
        {
            "cell_type": "markdown",
            "metadata": {},
            "source": "<p>Since, we're taking the context of India, we'll be looking at Data-sets containing coordinates of Indian States. We will be exploring the latest patient dataset. We'll also be looking at a data-set which will contain the records of Individual Patient updated daily.</p>\n<p>If more Data Sets are needed</p>"
        },
        {
            "cell_type": "markdown",
            "metadata": {},
            "source": "<h3> 4. Analysis </h3>"
        },
        {
            "cell_type": "markdown",
            "metadata": {},
            "source": "<p> Let's start the coding part by importing libraries </p>"
        },
        {
            "cell_type": "code",
            "execution_count": 2,
            "metadata": {},
            "outputs": [],
            "source": "import pandas as pd\nimport numpy as np\nimport requests\nfrom bs4 import BeautifulSoup"
        },
        {
            "cell_type": "markdown",
            "metadata": {},
            "source": "<p> Let's import our data sets </p>"
        },
        {
            "cell_type": "code",
            "execution_count": 28,
            "metadata": {},
            "outputs": [
                {
                    "name": "stdout",
                    "output_type": "stream",
                    "text": "Datasets imported !\n"
                }
            ],
            "source": "raw_data_url = 'https://api.covid19india.org/csv/latest/raw_data.csv'\nraw_data_df = pd.read_csv(state_data_url)\nraw_data_df.drop(['Source_1','Source_2','Source_3'], 1, inplace = True)\n\ndeath_recovered_url = 'https://api.covid19india.org/csv/latest/death_and_recovered.csv'\ndeath_recovered_df = pd.read_csv(death_recovered_url)\n\nstate_wise_url = 'https://api.covid19india.org/csv/latest/state_wise.csv'\nstate_wise_df = pd.read_csv(state_wise_url)\nstate_wise_df.drop('State_Notes',1,inplace = True)\n\nstate_wise_daily_url = 'https://api.covid19india.org/csv/latest/state_wise_daily.csv'\nstate_wise_daily_df = pd.read_csv(state_wise_daily_url)\n\n# sources_list_url = 'https://api.covid19india.org/csv/latest/sources_list.csv'\n# sources_list_df = pd.read_csv(sources_list_url)\n\nstatewise_tested_numbers_data_url = 'https://api.covid19india.org/csv/latest/statewise_tested_numbers_data.csv'\nstatewise_tested_numbers_data_df = pd.read_csv(statewise_tested_numbers_data_url)\n\ncase_time_series_url = 'https://api.covid19india.org/csv/latest/case_time_series.csv'\ncase_time_series_df = pd.read_csv(case_time_series_url)\n\ntested_numbers_icmr_data_url = 'https://api.covid19india.org/csv/latest/tested_numbers_icmr_data.csv'\ntested_numbers_icmr_data_df = pd.read_csv(tested_numbers_icmr_data_url)\n\nprint('Datasets imported !')"
        },
        {
            "cell_type": "markdown",
            "metadata": {},
            "source": "<p> Let's clean our datasets as we use them </p>"
        },
        {
            "cell_type": "code",
            "execution_count": 33,
            "metadata": {},
            "outputs": [
                {
                    "ename": "SyntaxError",
                    "evalue": "invalid syntax (<ipython-input-33-92782de85b29>, line 1)",
                    "output_type": "error",
                    "traceback": [
                        "\u001b[0;36m  File \u001b[0;32m\"<ipython-input-33-92782de85b29>\"\u001b[0;36m, line \u001b[0;32m1\u001b[0m\n\u001b[0;31m    state_wise_df = state_wise_df.iloc(1:)\u001b[0m\n\u001b[0m                                        ^\u001b[0m\n\u001b[0;31mSyntaxError\u001b[0m\u001b[0;31m:\u001b[0m invalid syntax\n"
                    ]
                }
            ],
            "source": "state_wise_df = state_wise_df.iloc(1:)\nstate_wise_df"
        },
        {
            "cell_type": "code",
            "execution_count": null,
            "metadata": {},
            "outputs": [],
            "source": ""
        },
        {
            "cell_type": "code",
            "execution_count": null,
            "metadata": {},
            "outputs": [],
            "source": "\n"
        },
        {
            "cell_type": "code",
            "execution_count": null,
            "metadata": {},
            "outputs": [],
            "source": "\n\n\n\n\n"
        },
        {
            "cell_type": "code",
            "execution_count": null,
            "metadata": {},
            "outputs": [],
            "source": ""
        },
        {
            "cell_type": "code",
            "execution_count": null,
            "metadata": {},
            "outputs": [],
            "source": ""
        },
        {
            "cell_type": "code",
            "execution_count": null,
            "metadata": {},
            "outputs": [],
            "source": ""
        },
        {
            "cell_type": "code",
            "execution_count": null,
            "metadata": {},
            "outputs": [],
            "source": ""
        }
    ],
    "metadata": {
        "kernelspec": {
            "display_name": "Python 3.6",
            "language": "python",
            "name": "python3"
        },
        "language_info": {
            "codemirror_mode": {
                "name": "ipython",
                "version": 3
            },
            "file_extension": ".py",
            "mimetype": "text/x-python",
            "name": "python",
            "nbconvert_exporter": "python",
            "pygments_lexer": "ipython3",
            "version": "3.6.9"
        }
    },
    "nbformat": 4,
    "nbformat_minor": 1
}